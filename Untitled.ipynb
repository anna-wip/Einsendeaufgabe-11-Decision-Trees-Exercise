{
 "cells": [
  {
   "cell_type": "code",
   "execution_count": 34,
   "metadata": {},
   "outputs": [
    {
     "name": "stdout",
     "output_type": "stream",
     "text": [
      "   rec; age;income;student;credit_rating;buys_computer\n",
      "0                            r1; <=30;high;no;fair;no \n",
      "1                       r2; <=30;high;no;excellent;no \n",
      "2                        r3; 31...40;high;no;fair;yes \n",
      "3                          r4; >40;medium;no;fair;yes \n",
      "4                            r5; >40;low;yes;fair;yes \n",
      "5                        r6; >40;low;yes;excellent;no \n",
      "6                   r7; 31...40;low;yes;excellent;yes \n",
      "7                          r8; <=30;medium;no;fair;no \n",
      "8                           r9; <=30;low;yes;fair;yes \n",
      "9                        r10; >40;medium;yes;fair;yes \n",
      "10                 r11; <=30;medium;yes;excellent;yes \n",
      "11               r12; 31...40;medium;no;excellent;yes \n",
      "12                     r13; 31...40;high;yes;fair;yes \n",
      "13                    r14; >40;medium;no;excellent;no \n",
      "14                   r15; <=30;medium;no;excellent;no \n",
      "15                           r16; <=30;low;no;fair;no \n",
      "16                      r17; <=30;low;no;excellent;no \n",
      "17                      r18; 31...40;low;yes;fair;yes \n",
      "18                  r19; >40;medium;yes;excellent;yes \n",
      "19                 r20; 31...40;high;no;excellent;yes \n"
     ]
    }
   ],
   "source": [
    "import numpy as np\n",
    "import pandas as pd\n",
    "from sklearn import tree\n",
    "\n",
    "url = \"https://raw.githubusercontent.com/anna-wip/Einsendeaufgabe-11-Decision-Trees-Exercise/master/buy_computer.csv\"\n",
    "df = pd.read_csv(url)\n",
    "print(df)"
   ]
  },
  {
   "cell_type": "code",
   "execution_count": 32,
   "metadata": {},
   "outputs": [
    {
     "ename": "AttributeError",
     "evalue": "'numpy.ndarray' object has no attribute 'drop'",
     "output_type": "error",
     "traceback": [
      "\u001b[1;31m---------------------------------------------------------------------------\u001b[0m",
      "\u001b[1;31mAttributeError\u001b[0m                            Traceback (most recent call last)",
      "\u001b[1;32m<ipython-input-32-121ae23e1079>\u001b[0m in \u001b[0;36m<module>\u001b[1;34m()\u001b[0m\n\u001b[0;32m      2\u001b[0m \u001b[1;32mfrom\u001b[0m \u001b[0msklearn\u001b[0m\u001b[1;33m.\u001b[0m\u001b[0mmodel_selection\u001b[0m \u001b[1;32mimport\u001b[0m \u001b[0mtrain_test_split\u001b[0m\u001b[1;33m\u001b[0m\u001b[0m\n\u001b[0;32m      3\u001b[0m \u001b[1;33m\u001b[0m\u001b[0m\n\u001b[1;32m----> 4\u001b[1;33m \u001b[0mX\u001b[0m \u001b[1;33m=\u001b[0m \u001b[0mdf\u001b[0m\u001b[1;33m.\u001b[0m\u001b[0mdrop\u001b[0m\u001b[1;33m(\u001b[0m\u001b[1;34m'buys_computer'\u001b[0m\u001b[1;33m,\u001b[0m \u001b[0maxis\u001b[0m \u001b[1;33m=\u001b[0m \u001b[1;36m1\u001b[0m\u001b[1;33m)\u001b[0m\u001b[1;33m\u001b[0m\u001b[0m\n\u001b[0m\u001b[0;32m      5\u001b[0m \u001b[0my\u001b[0m \u001b[1;33m=\u001b[0m \u001b[0mdf\u001b[0m\u001b[1;33m[\u001b[0m\u001b[1;34m'buys_computer'\u001b[0m\u001b[1;33m]\u001b[0m\u001b[1;33m\u001b[0m\u001b[0m\n\u001b[0;32m      6\u001b[0m \u001b[1;33m\u001b[0m\u001b[0m\n",
      "\u001b[1;31mAttributeError\u001b[0m: 'numpy.ndarray' object has no attribute 'drop'"
     ]
    }
   ],
   "source": [
    "#Split training and test data.\n",
    "from sklearn.model_selection import train_test_split\n",
    "\n",
    "X = df.drop('buys_computer', axis = 1)\n",
    "y = df['buys_computer']\n",
    "\n",
    "X_train, X_test, y_train, y_test = train_test_split(X, y, 13)"
   ]
  }
 ],
 "metadata": {
  "kernelspec": {
   "display_name": "Python 3",
   "language": "python",
   "name": "python3"
  },
  "language_info": {
   "codemirror_mode": {
    "name": "ipython",
    "version": 3
   },
   "file_extension": ".py",
   "mimetype": "text/x-python",
   "name": "python",
   "nbconvert_exporter": "python",
   "pygments_lexer": "ipython3",
   "version": "3.6.4"
  }
 },
 "nbformat": 4,
 "nbformat_minor": 2
}
