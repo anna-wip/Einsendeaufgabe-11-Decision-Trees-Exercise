{
 "cells": [
  {
   "cell_type": "code",
   "execution_count": 31,
   "metadata": {},
   "outputs": [
    {
     "name": "stdout",
     "output_type": "stream",
     "text": [
      "[['rec' 'age' 'income' 'student' 'credit_rating' 'buys_computer']\n",
      " ['r1' '<=30' 'High' 'No' 'Fair' 'No']\n",
      " ['r2' '<=30' 'High' 'No' 'Excellent' 'No']\n",
      " ['r3' '31...40' 'High' 'No' 'Fair' 'Yes']\n",
      " ['r4' '>40' 'Medium' 'No' 'Fair' 'Yes']\n",
      " ['r5' '>40' 'Low' 'Yes' 'Fair' 'Yes']\n",
      " ['r6' '>40' 'Low' 'Yes' 'Excellent' 'No']\n",
      " ['r7' '31...40' 'Low' 'Yes' 'Excellent' 'Yes']\n",
      " ['r8' '<=30' 'Medium' 'No' 'Fair' 'No']\n",
      " ['r9' '<=30' 'Low' 'Yes' 'Fair' 'Yes']\n",
      " ['r10' '>40' 'Medium' 'Yes' 'Fair' 'Yes']\n",
      " ['r11' '<=30' 'Medium' 'Yes' 'Excellent' 'Yes']\n",
      " ['r12' '31...40' 'Medium' 'No' 'Excellent' 'Yes']\n",
      " ['r13' '31...40' 'High' 'Yes' 'Fair' 'Yes']\n",
      " ['r14' '>40' 'Medium' 'No' 'Excellent' 'No']\n",
      " ['r15' '<=30' 'Medium' 'No' 'Excellent' 'No']\n",
      " ['r16' '<=30' 'Low' 'No' 'Fair' 'No']\n",
      " ['r17' '<=30' 'Low' 'No' 'Excellent' 'No']\n",
      " ['r18' '31...40' 'Low' 'Yes' 'Fair' 'Yes']\n",
      " ['r19' '>40' 'Medium' 'Yes' 'Excellent' 'Yes']\n",
      " ['r20' '31...40' 'High' 'No' 'Excellent' 'Yes']]\n"
     ]
    }
   ],
   "source": [
    "import numpy as np\n",
    "import pandas as pd\n",
    "from sklearn import tree\n",
    "\n",
    "data = np.array([['rec', 'age', 'income', 'student', 'credit_rating', 'buys_computer'],\n",
    "                ['r1', '<=30', 'High', 'No', 'Fair', 'No'],\n",
    "                ['r2', '<=30', 'High', 'No', 'Excellent', 'No'],\n",
    "                ['r3', '31...40', 'High', 'No', 'Fair', 'Yes'],\n",
    "                ['r4', '>40', 'Medium', 'No', 'Fair', 'Yes'],\n",
    "                ['r5', '>40', 'Low', 'Yes', 'Fair', 'Yes'],\n",
    "                ['r6', '>40', 'Low', 'Yes', 'Excellent', 'No'],\n",
    "                ['r7', '31...40', 'Low', 'Yes', 'Excellent', 'Yes'],\n",
    "                ['r8', '<=30', 'Medium', 'No', 'Fair', 'No'],\n",
    "                ['r9', '<=30', 'Low', 'Yes', 'Fair', 'Yes'],\n",
    "                ['r10', '>40', 'Medium', 'Yes', 'Fair', 'Yes'],\n",
    "                ['r11', '<=30', 'Medium', 'Yes', 'Excellent', 'Yes'],\n",
    "                ['r12', '31...40', 'Medium', 'No', 'Excellent', 'Yes'],\n",
    "                ['r13', '31...40', 'High', 'Yes', 'Fair', 'Yes'],\n",
    "                ['r14', '>40', 'Medium', 'No', 'Excellent', 'No'],\n",
    "                ['r15', '<=30', 'Medium', 'No', 'Excellent', 'No'],\n",
    "                ['r16', '<=30', 'Low', 'No', 'Fair', 'No'],\n",
    "                ['r17', '<=30', 'Low', 'No', 'Excellent', 'No'],\n",
    "                ['r18', '31...40', 'Low', 'Yes', 'Fair', 'Yes'],\n",
    "                ['r19', '>40', 'Medium', 'Yes', 'Excellent', 'Yes'],\n",
    "                ['r20', '31...40', 'High', 'No', 'Excellent', 'Yes']])\n",
    "\n",
    "df = data\n",
    "\n",
    "print(df)"
   ]
  },
  {
   "cell_type": "code",
   "execution_count": 32,
   "metadata": {},
   "outputs": [
    {
     "ename": "AttributeError",
     "evalue": "'numpy.ndarray' object has no attribute 'drop'",
     "output_type": "error",
     "traceback": [
      "\u001b[1;31m---------------------------------------------------------------------------\u001b[0m",
      "\u001b[1;31mAttributeError\u001b[0m                            Traceback (most recent call last)",
      "\u001b[1;32m<ipython-input-32-121ae23e1079>\u001b[0m in \u001b[0;36m<module>\u001b[1;34m()\u001b[0m\n\u001b[0;32m      2\u001b[0m \u001b[1;32mfrom\u001b[0m \u001b[0msklearn\u001b[0m\u001b[1;33m.\u001b[0m\u001b[0mmodel_selection\u001b[0m \u001b[1;32mimport\u001b[0m \u001b[0mtrain_test_split\u001b[0m\u001b[1;33m\u001b[0m\u001b[0m\n\u001b[0;32m      3\u001b[0m \u001b[1;33m\u001b[0m\u001b[0m\n\u001b[1;32m----> 4\u001b[1;33m \u001b[0mX\u001b[0m \u001b[1;33m=\u001b[0m \u001b[0mdf\u001b[0m\u001b[1;33m.\u001b[0m\u001b[0mdrop\u001b[0m\u001b[1;33m(\u001b[0m\u001b[1;34m'buys_computer'\u001b[0m\u001b[1;33m,\u001b[0m \u001b[0maxis\u001b[0m \u001b[1;33m=\u001b[0m \u001b[1;36m1\u001b[0m\u001b[1;33m)\u001b[0m\u001b[1;33m\u001b[0m\u001b[0m\n\u001b[0m\u001b[0;32m      5\u001b[0m \u001b[0my\u001b[0m \u001b[1;33m=\u001b[0m \u001b[0mdf\u001b[0m\u001b[1;33m[\u001b[0m\u001b[1;34m'buys_computer'\u001b[0m\u001b[1;33m]\u001b[0m\u001b[1;33m\u001b[0m\u001b[0m\n\u001b[0;32m      6\u001b[0m \u001b[1;33m\u001b[0m\u001b[0m\n",
      "\u001b[1;31mAttributeError\u001b[0m: 'numpy.ndarray' object has no attribute 'drop'"
     ]
    }
   ],
   "source": [
    "#Split training and test data.\n",
    "from sklearn.model_selection import train_test_split\n",
    "\n",
    "X = df.drop('buys_computer', axis = 1)\n",
    "y = df['buys_computer']\n",
    "\n",
    "X_train, X_test, y_train, y_test = train_test_split(X, y, 13)"
   ]
  }
 ],
 "metadata": {
  "kernelspec": {
   "display_name": "Python 3",
   "language": "python",
   "name": "python3"
  },
  "language_info": {
   "codemirror_mode": {
    "name": "ipython",
    "version": 3
   },
   "file_extension": ".py",
   "mimetype": "text/x-python",
   "name": "python",
   "nbconvert_exporter": "python",
   "pygments_lexer": "ipython3",
   "version": "3.6.4"
  }
 },
 "nbformat": 4,
 "nbformat_minor": 2
}
